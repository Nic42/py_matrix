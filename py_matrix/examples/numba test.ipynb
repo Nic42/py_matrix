{
 "metadata": {
  "name": "",
  "signature": "sha256:b1c4659888e1c3d838da5fb5236504f5886aa059d0b51348e4ddbcf48d3c41d0"
 },
 "nbformat": 3,
 "nbformat_minor": 0,
 "worksheets": [
  {
   "cells": [
    {
     "cell_type": "code",
     "collapsed": false,
     "input": [
      "import numpy as np\n",
      "from numba import jit\n",
      "import numba\n",
      "\n",
      "import sys                  # sys to add py_matrix to the path\n",
      "\n",
      "# adding py_matrix parent folder to python path\n",
      "sys.path.append('/home/pellegr/electrodynamics/st-matrix')\n",
      "import py_matrix as pm"
     ],
     "language": "python",
     "metadata": {},
     "outputs": [],
     "prompt_number": 91
    },
    {
     "cell_type": "code",
     "collapsed": false,
     "input": [
      "def m_comp(k0, kx, ky, m_eps):\n",
      "\n",
      "    '''Calculates the kz from the characteristic equation.\n",
      "\n",
      "    Parameters\n",
      "    ----------\n",
      "    'ko'= vacuum wavevector\n",
      "    'kx,ky'= in plane wavevector components\n",
      "    'm_eps'= 3x3 complex dielectric tensor\n",
      "\n",
      "    Returns\n",
      "    -------\n",
      "    'v_kz'= kz wavevector components\n",
      "    '''\n",
      "\n",
      "    # coefficients for the quartic equation\n",
      "    A = (kx/k0)*(((m_eps[0, 2]+m_eps[2, 0])/m_eps[2, 2]) +\n",
      "                 (ky/k0)*((m_eps[1, 2]+m_eps[2, 1])/m_eps[2, 2]))\n",
      "\n",
      "    B = (((kx/k0)**2)*(1.0+m_eps[0,0]/m_eps[2,2]) +\n",
      "         ((ky/k0)**2)*(1.0+m_eps[1,1]/m_eps[2,2]) +\n",
      "         ((kx*ky)/((k0)**2))*(m_eps[0,1]+m_eps[1,0])/m_eps[2,2] +\n",
      "         ((m_eps[0,2]*m_eps[2,0]+m_eps[1,2]*m_eps[2,1]) /\n",
      "         m_eps[2,2]-m_eps[0,0]-m_eps[1,1]))\n",
      "\n",
      "    C = (((kx**2+ky**2)/(k0**2)) *\n",
      "         ((kx/k0)*(m_eps[0,2]+m_eps[2,0])/m_eps[2,2] +\n",
      "         (ky/k0)*(m_eps[1,2]+m_eps[2,1])/m_eps[2,2]) +\n",
      "         (kx/k0)*((m_eps[0,1]*m_eps[1,2] +\n",
      "                   m_eps[1,0]*m_eps[2,1])/m_eps[2,2] -\n",
      "                  (m_eps[1,1]/m_eps[2,2])*(m_eps[0,2]+m_eps[2,0])) +\n",
      "         (ky/k0)*((m_eps[0,1]*m_eps[2,0] +\n",
      "                  m_eps[1,0]*m_eps[0,2])/m_eps[2,2] -\n",
      "                  (m_eps[0,0]/m_eps[2,2])*(m_eps[1,2]+m_eps[2,1])))\n",
      "\n",
      "    D1 = (((kx**2+ky**2)/(k0**2))*(((kx/k0)**2)*m_eps[0,0]/m_eps[2,2] +\n",
      "          ((ky/k0)**2)*m_eps[1,1]/m_eps[2,2] +\n",
      "          ((kx*ky)/(k0**2)) *\n",
      "          (m_eps[0,1]+m_eps[1,0])/m_eps[2,2] -\n",
      "          m_eps[0,0]*m_eps[1,1]/m_eps[2,2]))\n",
      "\n",
      "    D2 = ((kx/k0)**2)*((m_eps[0,1]*m_eps[1,0]+m_eps[0,2]*m_eps[2,0]) /\n",
      "                       m_eps[2,2]-m_eps[0,0])\n",
      "    D3 = ((ky/k0)**2)*((m_eps[0,1]*m_eps[1,0]+m_eps[1,2]*m_eps[2,1]) /\n",
      "                       m_eps[2,2]-m_eps[1,1])\n",
      "    D4 = ((kx*ky)/(k0**2))*((m_eps[0,2]*m_eps[2,1]+m_eps[2,0]*m_eps[1,2]) /\n",
      "                            m_eps[2,2] -\n",
      "                            m_eps[0,1]-m_eps[1,0])\n",
      "    D5 = (m_eps[0,0]*m_eps[1,1]+(m_eps[0,1]*m_eps[1,2]*m_eps[2,0] +\n",
      "          m_eps[1,0]*m_eps[2,1]*m_eps[0,2])/m_eps[2,2] -\n",
      "          m_eps[0,1]*m_eps[1,0] -\n",
      "          (m_eps[0,0]/m_eps[2,2])*m_eps[1,2]*m_eps[2,1] -\n",
      "          (m_eps[1,1]/m_eps[2,2])*m_eps[0,2]*m_eps[2,0])\n",
      "    D = D1+D2+D3+D4+D5\n",
      "\n",
      "    return A,B,C,D"
     ],
     "language": "python",
     "metadata": {
      "code_folding": [
       0
      ]
     },
     "outputs": [],
     "prompt_number": 92
    },
    {
     "cell_type": "code",
     "collapsed": false,
     "input": [
      "@jit(nopython=True)\n",
      "def m_comp_numba(k0, kx, ky, m_eps):\n",
      "\n",
      "    '''Calculates the kz from the characteristic equation.\n",
      "\n",
      "    Parameters\n",
      "    ----------\n",
      "    'ko'= vacuum wavevector\n",
      "    'kx,ky'= in plane wavevector components\n",
      "    'm_eps'= 3x3 complex dielectric tensor\n",
      "\n",
      "    Returns\n",
      "    -------\n",
      "    'v_kz'= kz wavevector components\n",
      "    '''\n",
      "\n",
      "    # coefficients for the quartic equation\n",
      "    A = (kx/k0)*(((m_eps[0, 2]+m_eps[2, 0])/m_eps[2, 2]) +\n",
      "                 (ky/k0)*((m_eps[1, 2]+m_eps[2, 1])/m_eps[2, 2]))\n",
      "\n",
      "    B = (((kx/k0)**2)*(1.0+m_eps[0,0]/m_eps[2,2]) +\n",
      "         ((ky/k0)**2)*(1.0+m_eps[1,1]/m_eps[2,2]) +\n",
      "         ((kx*ky)/((k0)**2))*(m_eps[0,1]+m_eps[1,0])/m_eps[2,2] +\n",
      "         ((m_eps[0,2]*m_eps[2,0]+m_eps[1,2]*m_eps[2,1]) /\n",
      "         m_eps[2,2]-m_eps[0,0]-m_eps[1,1]))\n",
      "\n",
      "    C = (((kx**2+ky**2)/(k0**2)) *\n",
      "         ((kx/k0)*(m_eps[0,2]+m_eps[2,0])/m_eps[2,2] +\n",
      "         (ky/k0)*(m_eps[1,2]+m_eps[2,1])/m_eps[2,2]) +\n",
      "         (kx/k0)*((m_eps[0,1]*m_eps[1,2] +\n",
      "                   m_eps[1,0]*m_eps[2,1])/m_eps[2,2] -\n",
      "                  (m_eps[1,1]/m_eps[2,2])*(m_eps[0,2]+m_eps[2,0])) +\n",
      "         (ky/k0)*((m_eps[0,1]*m_eps[2,0] +\n",
      "                  m_eps[1,0]*m_eps[0,2])/m_eps[2,2] -\n",
      "                  (m_eps[0,0]/m_eps[2,2])*(m_eps[1,2]+m_eps[2,1])))\n",
      "\n",
      "    D1 = (((kx**2+ky**2)/(k0**2))*(((kx/k0)**2)*m_eps[0,0]/m_eps[2,2] +\n",
      "          ((ky/k0)**2)*m_eps[1,1]/m_eps[2,2] +\n",
      "          ((kx*ky)/(k0**2)) *\n",
      "          (m_eps[0,1]+m_eps[1,0])/m_eps[2,2] -\n",
      "          m_eps[0,0]*m_eps[1,1]/m_eps[2,2]))\n",
      "\n",
      "    D2 = ((kx/k0)**2)*((m_eps[0,1]*m_eps[1,0]+m_eps[0,2]*m_eps[2,0]) /\n",
      "                       m_eps[2,2]-m_eps[0,0])\n",
      "    D3 = ((ky/k0)**2)*((m_eps[0,1]*m_eps[1,0]+m_eps[1,2]*m_eps[2,1]) /\n",
      "                       m_eps[2,2]-m_eps[1,1])\n",
      "    D4 = ((kx*ky)/(k0**2))*((m_eps[0,2]*m_eps[2,1]+m_eps[2,0]*m_eps[1,2]) /\n",
      "                            m_eps[2,2] -\n",
      "                            m_eps[0,1]-m_eps[1,0])\n",
      "    D5 = (m_eps[0,0]*m_eps[1,1]+(m_eps[0,1]*m_eps[1,2]*m_eps[2,0] +\n",
      "          m_eps[1,0]*m_eps[2,1]*m_eps[0,2])/m_eps[2,2] -\n",
      "          m_eps[0,1]*m_eps[1,0] -\n",
      "          (m_eps[0,0]/m_eps[2,2])*m_eps[1,2]*m_eps[2,1] -\n",
      "          (m_eps[1,1]/m_eps[2,2])*m_eps[0,2]*m_eps[2,0])\n",
      "    D = D1+D2+D3+D4+D5\n",
      "\n",
      "    return A,B,C,D"
     ],
     "language": "python",
     "metadata": {
      "code_folding": [
       1
      ]
     },
     "outputs": [],
     "prompt_number": 93
    },
    {
     "cell_type": "code",
     "collapsed": false,
     "input": [
      "# building the optical constant database, point the folder below to the \"materials\" py_matrix folder\n",
      "eps_db_out=pm.mat.generate_eps_db('/home/pellegr/electrodynamics/st-matrix/py_matrix/materials/',ext='*.edb')\n",
      "eps_files,eps_names,eps_db=eps_db_out['eps_files'],eps_db_out['eps_names'],eps_db_out['eps_db']"
     ],
     "language": "python",
     "metadata": {},
     "outputs": [],
     "prompt_number": 94
    },
    {
     "cell_type": "code",
     "collapsed": false,
     "input": [
      "wl_0=633 # incident wavelenght in nm\n",
      "k0=2.0*np.pi/wl_0\n",
      "theta_0=40*np.pi/1.8e2 # polar angle in radians\n",
      "phi_0=0.0 # azimuthal angle radians\n",
      "stack=['e_au']; # materials composing the stack, as taken from eps_db"
     ],
     "language": "python",
     "metadata": {},
     "outputs": [],
     "prompt_number": 95
    },
    {
     "cell_type": "code",
     "collapsed": false,
     "input": [
      "# optical constant tensor\n",
      "m_eps=np.zeros((3,3),dtype=np.complex128);\n",
      "e_list=pm.mat.db_to_eps(wl_0,eps_db,stack) # retrieving optical constants at wl_0 from the database\n",
      "m_eps[0,0]=e_list[0] # filling dielectric tensor diagonal\n",
      "m_eps[1,1]=e_list[0]\n",
      "m_eps[2,2]=e_list[0]\n",
      "\n",
      "#wavevector components\n",
      "kx=k0*np.sin(theta_0)\n",
      "ky=0.0"
     ],
     "language": "python",
     "metadata": {},
     "outputs": [],
     "prompt_number": 96
    },
    {
     "cell_type": "code",
     "collapsed": false,
     "input": [
      "%%timeit -n 1000\n",
      "m_comp(k0, kx, ky, m_eps)"
     ],
     "language": "python",
     "metadata": {},
     "outputs": [
      {
       "output_type": "stream",
       "stream": "stdout",
       "text": [
        "1000 loops, best of 3: 131 \u00b5s per loop\n"
       ]
      }
     ],
     "prompt_number": 97
    },
    {
     "cell_type": "code",
     "collapsed": false,
     "input": [
      "%%timeit -n 1000\n",
      "m_comp_numba(k0, kx, ky, m_eps)"
     ],
     "language": "python",
     "metadata": {},
     "outputs": [
      {
       "output_type": "stream",
       "stream": "stdout",
       "text": [
        "1000 loops, best of 3: 2.02 \u00b5s per loop\n"
       ]
      }
     ],
     "prompt_number": 100
    },
    {
     "cell_type": "code",
     "collapsed": false,
     "input": [
      "? %%timeit"
     ],
     "language": "python",
     "metadata": {},
     "outputs": [],
     "prompt_number": 76
    },
    {
     "cell_type": "code",
     "collapsed": false,
     "input": [],
     "language": "python",
     "metadata": {},
     "outputs": []
    }
   ],
   "metadata": {}
  }
 ]
}